{
  "nbformat": 4,
  "nbformat_minor": 0,
  "metadata": {
    "kernelspec": {
      "display_name": "Python 3",
      "language": "python",
      "name": "python3"
    },
    "language_info": {
      "codemirror_mode": {
        "name": "ipython",
        "version": 3
      },
      "file_extension": ".py",
      "mimetype": "text/x-python",
      "name": "python",
      "nbconvert_exporter": "python",
      "pygments_lexer": "ipython3",
      "version": "3.7.3"
    },
    "colab": {
      "name": "Copia de LAB 04.02 - BUILDING DATASETS.ipynb",
      "provenance": [],
      "include_colab_link": true
    },
    "widgets": {
      "application/vnd.jupyter.widget-state+json": {
        "ae43b94cf90e46a4a023923e8eb68664": {
          "model_module": "@jupyter-widgets/controls",
          "model_name": "HBoxModel",
          "model_module_version": "1.5.0",
          "state": {
            "_view_name": "HBoxView",
            "_dom_classes": [],
            "_model_name": "HBoxModel",
            "_view_module": "@jupyter-widgets/controls",
            "_model_module_version": "1.5.0",
            "_view_count": null,
            "_view_module_version": "1.5.0",
            "box_style": "",
            "layout": "IPY_MODEL_66d5b628699340eb9a9a161e1daf323d",
            "_model_module": "@jupyter-widgets/controls",
            "children": [
              "IPY_MODEL_e44b3f84f2674e33a509ed4c5af87804",
              "IPY_MODEL_148ded199d9b496593a562b7751e83ce",
              "IPY_MODEL_80b8c61b443440faab16b4c7176dc248",
              "IPY_MODEL_d4d5483ff100446c83bd669ed78d47cb"
            ]
          }
        },
        "66d5b628699340eb9a9a161e1daf323d": {
          "model_module": "@jupyter-widgets/base",
          "model_name": "LayoutModel",
          "model_module_version": "1.2.0",
          "state": {
            "_view_name": "LayoutView",
            "grid_template_rows": null,
            "right": null,
            "justify_content": null,
            "_view_module": "@jupyter-widgets/base",
            "overflow": null,
            "_model_module_version": "1.2.0",
            "_view_count": null,
            "flex_flow": null,
            "width": null,
            "min_width": null,
            "border": null,
            "align_items": null,
            "bottom": null,
            "_model_module": "@jupyter-widgets/base",
            "top": null,
            "grid_column": null,
            "overflow_y": null,
            "overflow_x": null,
            "grid_auto_flow": null,
            "grid_area": null,
            "grid_template_columns": null,
            "flex": null,
            "_model_name": "LayoutModel",
            "justify_items": null,
            "grid_row": null,
            "max_height": null,
            "align_content": null,
            "visibility": null,
            "align_self": null,
            "height": null,
            "min_height": null,
            "padding": null,
            "grid_auto_rows": null,
            "grid_gap": null,
            "max_width": null,
            "order": null,
            "_view_module_version": "1.2.0",
            "grid_template_areas": null,
            "object_position": null,
            "object_fit": null,
            "grid_auto_columns": null,
            "margin": null,
            "display": null,
            "left": null
          }
        },
        "e44b3f84f2674e33a509ed4c5af87804": {
          "model_module": "@jupyter-widgets/controls",
          "model_name": "VBoxModel",
          "model_module_version": "1.5.0",
          "state": {
            "_view_name": "VBoxView",
            "_dom_classes": [],
            "_model_name": "VBoxModel",
            "_view_module": "@jupyter-widgets/controls",
            "_model_module_version": "1.5.0",
            "_view_count": null,
            "_view_module_version": "1.5.0",
            "box_style": "",
            "layout": "IPY_MODEL_9827485813274be3ab747f3d94f9620c",
            "_model_module": "@jupyter-widgets/controls",
            "children": [
              "IPY_MODEL_388502cb9078448aad41e9bc3b7c08e2",
              "IPY_MODEL_f97149e7216041a9ab07a804e88a7d4b"
            ]
          }
        },
        "148ded199d9b496593a562b7751e83ce": {
          "model_module": "@jupyter-widgets/controls",
          "model_name": "ButtonModel",
          "model_module_version": "1.5.0",
          "state": {
            "_view_name": "ButtonView",
            "style": "IPY_MODEL_465028a10a2d4a63a735bea70cd70295",
            "_dom_classes": [
              "login_button"
            ],
            "description": "Login with email",
            "_model_name": "ButtonModel",
            "button_style": "",
            "_view_module": "@jupyter-widgets/controls",
            "_model_module_version": "1.5.0",
            "tooltip": "",
            "_view_count": null,
            "disabled": false,
            "_view_module_version": "1.5.0",
            "layout": "IPY_MODEL_5525d648b91f4969b1abb9f22388eb41",
            "_model_module": "@jupyter-widgets/controls",
            "icon": ""
          }
        },
        "80b8c61b443440faab16b4c7176dc248": {
          "model_module": "@jupyter-widgets/controls",
          "model_name": "HTMLModel",
          "model_module_version": "1.5.0",
          "state": {
            "_view_name": "HTMLView",
            "style": "IPY_MODEL_3879d87b99444d61a1e84a64f2513701",
            "_dom_classes": [],
            "description": "",
            "_model_name": "HTMLModel",
            "placeholder": "​",
            "_view_module": "@jupyter-widgets/controls",
            "_model_module_version": "1.5.0",
            "value": "<center><big>or</big></center>",
            "_view_count": null,
            "_view_module_version": "1.5.0",
            "description_tooltip": null,
            "_model_module": "@jupyter-widgets/controls",
            "layout": "IPY_MODEL_711618fad14f48928f5a167cf8e9ecaf"
          }
        },
        "d4d5483ff100446c83bd669ed78d47cb": {
          "model_module": "@jupyter-widgets/controls",
          "model_name": "ButtonModel",
          "model_module_version": "1.5.0",
          "state": {
            "_view_name": "ButtonView",
            "style": "IPY_MODEL_a23707811c7a4b229e25c86b3aa82aa8",
            "_dom_classes": [
              "google_button"
            ],
            "description": "Login with Google",
            "_model_name": "ButtonModel",
            "button_style": "",
            "_view_module": "@jupyter-widgets/controls",
            "_model_module_version": "1.5.0",
            "tooltip": "",
            "_view_count": null,
            "disabled": false,
            "_view_module_version": "1.5.0",
            "layout": "IPY_MODEL_ea15ad5f33924e0ea7dd0374f3156c9a",
            "_model_module": "@jupyter-widgets/controls",
            "icon": ""
          }
        },
        "9827485813274be3ab747f3d94f9620c": {
          "model_module": "@jupyter-widgets/base",
          "model_name": "LayoutModel",
          "model_module_version": "1.2.0",
          "state": {
            "_view_name": "LayoutView",
            "grid_template_rows": null,
            "right": null,
            "justify_content": null,
            "_view_module": "@jupyter-widgets/base",
            "overflow": null,
            "_model_module_version": "1.2.0",
            "_view_count": null,
            "flex_flow": null,
            "width": null,
            "min_width": null,
            "border": null,
            "align_items": null,
            "bottom": null,
            "_model_module": "@jupyter-widgets/base",
            "top": null,
            "grid_column": null,
            "overflow_y": null,
            "overflow_x": null,
            "grid_auto_flow": null,
            "grid_area": null,
            "grid_template_columns": null,
            "flex": null,
            "_model_name": "LayoutModel",
            "justify_items": null,
            "grid_row": null,
            "max_height": null,
            "align_content": null,
            "visibility": null,
            "align_self": null,
            "height": null,
            "min_height": null,
            "padding": null,
            "grid_auto_rows": null,
            "grid_gap": null,
            "max_width": null,
            "order": null,
            "_view_module_version": "1.2.0",
            "grid_template_areas": null,
            "object_position": null,
            "object_fit": null,
            "grid_auto_columns": null,
            "margin": null,
            "display": null,
            "left": null
          }
        },
        "388502cb9078448aad41e9bc3b7c08e2": {
          "model_module": "@jupyter-widgets/controls",
          "model_name": "TextModel",
          "model_module_version": "1.5.0",
          "state": {
            "_view_name": "TextView",
            "style": "IPY_MODEL_b73bcf43216e48b18f08cc9a663d20ef",
            "_dom_classes": [],
            "description": "email",
            "_model_name": "TextModel",
            "placeholder": "​",
            "_view_module": "@jupyter-widgets/controls",
            "_model_module_version": "1.5.0",
            "value": "",
            "_view_count": null,
            "disabled": false,
            "_view_module_version": "1.5.0",
            "continuous_update": true,
            "description_tooltip": null,
            "_model_module": "@jupyter-widgets/controls",
            "layout": "IPY_MODEL_3c557abbbf224d56bb22126be0704001"
          }
        },
        "f97149e7216041a9ab07a804e88a7d4b": {
          "model_module": "@jupyter-widgets/controls",
          "model_name": "PasswordModel",
          "model_module_version": "1.5.0",
          "state": {
            "_view_name": "PasswordView",
            "style": "IPY_MODEL_6950104bf4024b219eaf992cf870f421",
            "_dom_classes": [],
            "description": "password",
            "_model_name": "PasswordModel",
            "placeholder": "​",
            "_view_module": "@jupyter-widgets/controls",
            "_model_module_version": "1.5.0",
            "value": "",
            "_view_count": null,
            "disabled": false,
            "_view_module_version": "1.5.0",
            "continuous_update": true,
            "description_tooltip": null,
            "_model_module": "@jupyter-widgets/controls",
            "layout": "IPY_MODEL_12e592e54dfa469eb0dc02062d9a4210"
          }
        },
        "465028a10a2d4a63a735bea70cd70295": {
          "model_module": "@jupyter-widgets/controls",
          "model_name": "ButtonStyleModel",
          "model_module_version": "1.5.0",
          "state": {
            "_view_name": "StyleView",
            "_model_name": "ButtonStyleModel",
            "_view_module": "@jupyter-widgets/base",
            "_model_module_version": "1.5.0",
            "_view_count": null,
            "button_color": null,
            "font_weight": "",
            "_view_module_version": "1.2.0",
            "_model_module": "@jupyter-widgets/controls"
          }
        },
        "5525d648b91f4969b1abb9f22388eb41": {
          "model_module": "@jupyter-widgets/base",
          "model_name": "LayoutModel",
          "model_module_version": "1.2.0",
          "state": {
            "_view_name": "LayoutView",
            "grid_template_rows": null,
            "right": null,
            "justify_content": null,
            "_view_module": "@jupyter-widgets/base",
            "overflow": null,
            "_model_module_version": "1.2.0",
            "_view_count": null,
            "flex_flow": null,
            "width": "150px",
            "min_width": null,
            "border": null,
            "align_items": null,
            "bottom": null,
            "_model_module": "@jupyter-widgets/base",
            "top": null,
            "grid_column": null,
            "overflow_y": null,
            "overflow_x": null,
            "grid_auto_flow": null,
            "grid_area": null,
            "grid_template_columns": null,
            "flex": null,
            "_model_name": "LayoutModel",
            "justify_items": null,
            "grid_row": null,
            "max_height": null,
            "align_content": null,
            "visibility": null,
            "align_self": null,
            "height": "53px",
            "min_height": null,
            "padding": null,
            "grid_auto_rows": null,
            "grid_gap": null,
            "max_width": null,
            "order": null,
            "_view_module_version": "1.2.0",
            "grid_template_areas": null,
            "object_position": null,
            "object_fit": null,
            "grid_auto_columns": null,
            "margin": null,
            "display": null,
            "left": null
          }
        },
        "3879d87b99444d61a1e84a64f2513701": {
          "model_module": "@jupyter-widgets/controls",
          "model_name": "DescriptionStyleModel",
          "model_module_version": "1.5.0",
          "state": {
            "_view_name": "StyleView",
            "_model_name": "DescriptionStyleModel",
            "description_width": "",
            "_view_module": "@jupyter-widgets/base",
            "_model_module_version": "1.5.0",
            "_view_count": null,
            "_view_module_version": "1.2.0",
            "_model_module": "@jupyter-widgets/controls"
          }
        },
        "711618fad14f48928f5a167cf8e9ecaf": {
          "model_module": "@jupyter-widgets/base",
          "model_name": "LayoutModel",
          "model_module_version": "1.2.0",
          "state": {
            "_view_name": "LayoutView",
            "grid_template_rows": null,
            "right": null,
            "justify_content": null,
            "_view_module": "@jupyter-widgets/base",
            "overflow": null,
            "_model_module_version": "1.2.0",
            "_view_count": null,
            "flex_flow": null,
            "width": "100px",
            "min_width": null,
            "border": null,
            "align_items": null,
            "bottom": null,
            "_model_module": "@jupyter-widgets/base",
            "top": null,
            "grid_column": null,
            "overflow_y": null,
            "overflow_x": null,
            "grid_auto_flow": null,
            "grid_area": null,
            "grid_template_columns": null,
            "flex": null,
            "_model_name": "LayoutModel",
            "justify_items": null,
            "grid_row": null,
            "max_height": null,
            "align_content": null,
            "visibility": null,
            "align_self": null,
            "height": null,
            "min_height": null,
            "padding": null,
            "grid_auto_rows": null,
            "grid_gap": null,
            "max_width": null,
            "order": null,
            "_view_module_version": "1.2.0",
            "grid_template_areas": null,
            "object_position": null,
            "object_fit": null,
            "grid_auto_columns": null,
            "margin": null,
            "display": null,
            "left": null
          }
        },
        "a23707811c7a4b229e25c86b3aa82aa8": {
          "model_module": "@jupyter-widgets/controls",
          "model_name": "ButtonStyleModel",
          "model_module_version": "1.5.0",
          "state": {
            "_view_name": "StyleView",
            "_model_name": "ButtonStyleModel",
            "_view_module": "@jupyter-widgets/base",
            "_model_module_version": "1.5.0",
            "_view_count": null,
            "button_color": null,
            "font_weight": "",
            "_view_module_version": "1.2.0",
            "_model_module": "@jupyter-widgets/controls"
          }
        },
        "ea15ad5f33924e0ea7dd0374f3156c9a": {
          "model_module": "@jupyter-widgets/base",
          "model_name": "LayoutModel",
          "model_module_version": "1.2.0",
          "state": {
            "_view_name": "LayoutView",
            "grid_template_rows": null,
            "right": null,
            "justify_content": null,
            "_view_module": "@jupyter-widgets/base",
            "overflow": null,
            "_model_module_version": "1.2.0",
            "_view_count": null,
            "flex_flow": null,
            "width": "200px",
            "min_width": null,
            "border": null,
            "align_items": null,
            "bottom": null,
            "_model_module": "@jupyter-widgets/base",
            "top": null,
            "grid_column": null,
            "overflow_y": null,
            "overflow_x": null,
            "grid_auto_flow": null,
            "grid_area": null,
            "grid_template_columns": null,
            "flex": null,
            "_model_name": "LayoutModel",
            "justify_items": null,
            "grid_row": null,
            "max_height": null,
            "align_content": null,
            "visibility": null,
            "align_self": null,
            "height": "53px",
            "min_height": null,
            "padding": null,
            "grid_auto_rows": null,
            "grid_gap": null,
            "max_width": null,
            "order": null,
            "_view_module_version": "1.2.0",
            "grid_template_areas": null,
            "object_position": null,
            "object_fit": null,
            "grid_auto_columns": null,
            "margin": null,
            "display": null,
            "left": null
          }
        },
        "b73bcf43216e48b18f08cc9a663d20ef": {
          "model_module": "@jupyter-widgets/controls",
          "model_name": "DescriptionStyleModel",
          "model_module_version": "1.5.0",
          "state": {
            "_view_name": "StyleView",
            "_model_name": "DescriptionStyleModel",
            "description_width": "",
            "_view_module": "@jupyter-widgets/base",
            "_model_module_version": "1.5.0",
            "_view_count": null,
            "_view_module_version": "1.2.0",
            "_model_module": "@jupyter-widgets/controls"
          }
        },
        "3c557abbbf224d56bb22126be0704001": {
          "model_module": "@jupyter-widgets/base",
          "model_name": "LayoutModel",
          "model_module_version": "1.2.0",
          "state": {
            "_view_name": "LayoutView",
            "grid_template_rows": null,
            "right": null,
            "justify_content": null,
            "_view_module": "@jupyter-widgets/base",
            "overflow": null,
            "_model_module_version": "1.2.0",
            "_view_count": null,
            "flex_flow": null,
            "width": "300px",
            "min_width": null,
            "border": null,
            "align_items": null,
            "bottom": null,
            "_model_module": "@jupyter-widgets/base",
            "top": null,
            "grid_column": null,
            "overflow_y": null,
            "overflow_x": null,
            "grid_auto_flow": null,
            "grid_area": null,
            "grid_template_columns": null,
            "flex": null,
            "_model_name": "LayoutModel",
            "justify_items": null,
            "grid_row": null,
            "max_height": null,
            "align_content": null,
            "visibility": null,
            "align_self": null,
            "height": "25px",
            "min_height": null,
            "padding": null,
            "grid_auto_rows": null,
            "grid_gap": null,
            "max_width": null,
            "order": null,
            "_view_module_version": "1.2.0",
            "grid_template_areas": null,
            "object_position": null,
            "object_fit": null,
            "grid_auto_columns": null,
            "margin": null,
            "display": null,
            "left": null
          }
        },
        "6950104bf4024b219eaf992cf870f421": {
          "model_module": "@jupyter-widgets/controls",
          "model_name": "DescriptionStyleModel",
          "model_module_version": "1.5.0",
          "state": {
            "_view_name": "StyleView",
            "_model_name": "DescriptionStyleModel",
            "description_width": "",
            "_view_module": "@jupyter-widgets/base",
            "_model_module_version": "1.5.0",
            "_view_count": null,
            "_view_module_version": "1.2.0",
            "_model_module": "@jupyter-widgets/controls"
          }
        },
        "12e592e54dfa469eb0dc02062d9a4210": {
          "model_module": "@jupyter-widgets/base",
          "model_name": "LayoutModel",
          "model_module_version": "1.2.0",
          "state": {
            "_view_name": "LayoutView",
            "grid_template_rows": null,
            "right": null,
            "justify_content": null,
            "_view_module": "@jupyter-widgets/base",
            "overflow": null,
            "_model_module_version": "1.2.0",
            "_view_count": null,
            "flex_flow": null,
            "width": "300px",
            "min_width": null,
            "border": null,
            "align_items": null,
            "bottom": null,
            "_model_module": "@jupyter-widgets/base",
            "top": null,
            "grid_column": null,
            "overflow_y": null,
            "overflow_x": null,
            "grid_auto_flow": null,
            "grid_area": null,
            "grid_template_columns": null,
            "flex": null,
            "_model_name": "LayoutModel",
            "justify_items": null,
            "grid_row": null,
            "max_height": null,
            "align_content": null,
            "visibility": null,
            "align_self": null,
            "height": "24px",
            "min_height": null,
            "padding": null,
            "grid_auto_rows": null,
            "grid_gap": null,
            "max_width": null,
            "order": null,
            "_view_module_version": "1.2.0",
            "grid_template_areas": null,
            "object_position": null,
            "object_fit": null,
            "grid_auto_columns": null,
            "margin": null,
            "display": null,
            "left": null
          }
        }
      }
    }
  },
  "cells": [
    {
      "cell_type": "markdown",
      "metadata": {
        "id": "view-in-github",
        "colab_type": "text"
      },
      "source": [
        "<a href=\"https://colab.research.google.com/github/juanjacevedo/Intro-a-la-IA/blob/main/Copia_de_LAB_04_02_BUILDING_DATASETS.ipynb\" target=\"_parent\"><img src=\"https://colab.research.google.com/assets/colab-badge.svg\" alt=\"Open In Colab\"/></a>"
      ]
    },
    {
      "cell_type": "markdown",
      "metadata": {
        "id": "aKcwv96nsz-s"
      },
      "source": [
        "# LAB 04.02 - Buiding Datasets"
      ]
    },
    {
      "cell_type": "code",
      "metadata": {
        "id": "PtIPtVGwsz-5",
        "colab": {
          "base_uri": "https://localhost:8080/",
          "height": 35
        },
        "outputId": "c459f8d2-8c5a-4e97-a974-e9ae8597dff5"
      },
      "source": [
        "!wget --no-cache -O init.py -q https://raw.githubusercontent.com/rramosp/ai4eng.v1.20211.udea/main/content/init.py\n",
        "import init; init.init(force_download=False); init.get_weblink()\n",
        "init.endpoint"
      ],
      "execution_count": null,
      "outputs": [
        {
          "output_type": "display_data",
          "data": {
            "text/html": [
              "\n",
              "<meta name=\"google-signin-client_id\"\n",
              "      content=\"461673936472-kdjosv61up3ac1ajeuq6qqu72upilmls.apps.googleusercontent.com\"/>\n",
              "<script src=\"https://apis.google.com/js/client:platform.js?onload=google_button_start\"></script>\n",
              "    "
            ],
            "text/plain": [
              "<IPython.core.display.HTML object>"
            ]
          },
          "metadata": {}
        },
        {
          "output_type": "execute_result",
          "data": {
            "application/vnd.google.colaboratory.intrinsic+json": {
              "type": "string"
            },
            "text/plain": [
              "'https://m5knaekxo6.execute-api.us-west-2.amazonaws.com/dev-v0001/rlxmooc'"
            ]
          },
          "metadata": {},
          "execution_count": 13
        }
      ]
    },
    {
      "cell_type": "code",
      "metadata": {
        "id": "WNRbta-4sz-7",
        "colab": {
          "base_uri": "https://localhost:8080/",
          "height": 136,
          "referenced_widgets": [
            "ae43b94cf90e46a4a023923e8eb68664",
            "66d5b628699340eb9a9a161e1daf323d",
            "e44b3f84f2674e33a509ed4c5af87804",
            "148ded199d9b496593a562b7751e83ce",
            "80b8c61b443440faab16b4c7176dc248",
            "d4d5483ff100446c83bd669ed78d47cb",
            "9827485813274be3ab747f3d94f9620c",
            "388502cb9078448aad41e9bc3b7c08e2",
            "f97149e7216041a9ab07a804e88a7d4b",
            "465028a10a2d4a63a735bea70cd70295",
            "5525d648b91f4969b1abb9f22388eb41",
            "3879d87b99444d61a1e84a64f2513701",
            "711618fad14f48928f5a167cf8e9ecaf",
            "a23707811c7a4b229e25c86b3aa82aa8",
            "ea15ad5f33924e0ea7dd0374f3156c9a",
            "b73bcf43216e48b18f08cc9a663d20ef",
            "3c557abbbf224d56bb22126be0704001",
            "6950104bf4024b219eaf992cf870f421",
            "12e592e54dfa469eb0dc02062d9a4210"
          ]
        },
        "outputId": "716a708a-e3fb-4369-b475-1f718fb7e737"
      },
      "source": [
        "from local.lib.rlxmoocapi import submit, session\n",
        "session.LoginSequence(endpoint=init.endpoint, course_id=init.course_id, lab_id=\"L04.02\", varname=\"student\");"
      ],
      "execution_count": null,
      "outputs": [
        {
          "output_type": "stream",
          "name": "stdout",
          "text": [
            "logging in as juanj.acevedo@udea.edu.co... please wait\n",
            "you are not registered for any session in this course. login failed!!\n"
          ]
        }
      ]
    },
    {
      "cell_type": "markdown",
      "metadata": {
        "id": "Bt9ikY5Gsz-8"
      },
      "source": [
        "## Understand the ASHRAE Energy Prediction in Kaggle\n",
        "\n",
        "Follow this link: [https://www.kaggle.com/c/ashrae-energy-prediction](https://www.kaggle.com/c/ashrae-energy-prediction), register for the task and download the data.\n",
        "\n",
        "In particular, understand:\n",
        "\n",
        "- The machine learning task they define (what they want to predict)\n",
        "- How the data is provided\n",
        "- The structure and relation between the files `train.csv`, `weather_train.csv` and `building_metadata.csv`"
      ]
    },
    {
      "cell_type": "markdown",
      "metadata": {
        "id": "5JgdIkl9sz-8"
      },
      "source": [
        "## Task 1: Build a training dataset\n",
        "\n",
        "Execute the cell below and you will be given a **building_id** and a **date**. You will have to:\n",
        "\n",
        "1. Build a table containing one row per hour and the following columns **only for that building_id and date**: \n",
        "       'meter_reading', 'site_id', 'air_temperature', 'cloud_coverage',\n",
        "       'dew_temperature', 'precip_depth_1_hr', 'sea_level_pressure',\n",
        "       'wind_direction', 'wind_speed', 'square_feet', 'year_built'\n",
        "   Note that you will have to gather this information from the different csv sources.\n",
        "   \n",
        "1. use only measures with `meter`=0\n",
        "1. Fill any missing values with zero.\n",
        "1. Extract the column of the target variable and sum all values.\n",
        "1. Sum all the values of the rest of the columns.\n",
        "1. Fill in those values in the variables below.\n",
        "1. Submit your answer.\n",
        "\n",
        "Observe that, with this dataset, we could train a model to make predictions of the target variable, taking the rest of the variables as input.\n",
        "\n",
        "For instance, for building number 900, on 2016-02-01:\n",
        "- there are 24 records\n",
        "- the sum of all values of the target variable is 4941 (cropping decimals)\n",
        "- the sum of all values of the rest of the variables is 2705422 (cropping decimals)"
      ]
    },
    {
      "cell_type": "code",
      "metadata": {
        "id": "Qlrapi8qsz-9"
      },
      "source": [
        "from IPython.display import Image\n",
        "from local.lib import labutils\n",
        "import numpy as np\n",
        "bid, date = labutils.biddate_for_student(student.user_id)\n",
        "print (\"your building_id\", bid)\n",
        "print (\"your date       \", date)"
      ],
      "execution_count": null,
      "outputs": []
    },
    {
      "cell_type": "code",
      "metadata": {
        "id": "WNa5KHm-nG6T"
      },
      "source": [
        "import pandas as pd"
      ],
      "execution_count": null,
      "outputs": []
    },
    {
      "cell_type": "code",
      "metadata": {
        "id": "fl4V-_YRXbQP"
      },
      "source": [
        "bid = 981\n",
        "date = '2016-02-06'"
      ],
      "execution_count": null,
      "outputs": []
    },
    {
      "cell_type": "code",
      "metadata": {
        "colab": {
          "base_uri": "https://localhost:8080/"
        },
        "id": "kRBu-WWX6Zez",
        "outputId": "81b78b40-bf48-45ed-a869-d27cb352147c"
      },
      "source": [
        "!wc train.csv"
      ],
      "execution_count": null,
      "outputs": [
        {
          "output_type": "stream",
          "name": "stdout",
          "text": [
            "wc: train.csv: No such file or directory\n"
          ]
        }
      ]
    },
    {
      "cell_type": "code",
      "metadata": {
        "id": "ZIx3fVHiZmHB"
      },
      "source": [
        "dz= pd.read_csv('weather_train.csv')\n",
        "dz = dz.set_index('timestamp')\n",
        "dz.index = pd.to_datetime(dz.index, format='%Y-%m-%d')\n",
        "dz"
      ],
      "execution_count": null,
      "outputs": []
    },
    {
      "cell_type": "code",
      "metadata": {
        "id": "uOpp9kFFYi08"
      },
      "source": [
        "dmb = pd.read_csv('building_metadata.csv')"
      ],
      "execution_count": null,
      "outputs": []
    },
    {
      "cell_type": "code",
      "metadata": {
        "id": "Vbsal-M4qgPE"
      },
      "source": [
        "dm = pd.read_csv('train.csv', delimiter=',', error_bad_lines= False)"
      ],
      "execution_count": null,
      "outputs": []
    },
    {
      "cell_type": "code",
      "metadata": {
        "id": "jGPD2oCmZmt3"
      },
      "source": [
        "dm1 = dm.set_index('timestamp')"
      ],
      "execution_count": null,
      "outputs": []
    },
    {
      "cell_type": "code",
      "metadata": {
        "id": "PoxYo-yMZmq4"
      },
      "source": [
        "dm1.index = pd.to_datetime(dm1.index, format='%Y-%m-%d')"
      ],
      "execution_count": null,
      "outputs": []
    },
    {
      "cell_type": "code",
      "metadata": {
        "colab": {
          "base_uri": "https://localhost:8080/",
          "height": 815
        },
        "id": "8-NvgejJZmoO",
        "outputId": "1fd68cb1-7ee8-471a-f06e-581303ab5aaf"
      },
      "source": [
        "dm1 = dm1[(dm1.building_id==bid)&(dm1.meter==0)][date]\n",
        "dm1"
      ],
      "execution_count": null,
      "outputs": [
        {
          "output_type": "execute_result",
          "data": {
            "text/html": [
              "<div>\n",
              "<style scoped>\n",
              "    .dataframe tbody tr th:only-of-type {\n",
              "        vertical-align: middle;\n",
              "    }\n",
              "\n",
              "    .dataframe tbody tr th {\n",
              "        vertical-align: top;\n",
              "    }\n",
              "\n",
              "    .dataframe thead th {\n",
              "        text-align: right;\n",
              "    }\n",
              "</style>\n",
              "<table border=\"1\" class=\"dataframe\">\n",
              "  <thead>\n",
              "    <tr style=\"text-align: right;\">\n",
              "      <th></th>\n",
              "      <th>building_id</th>\n",
              "      <th>meter</th>\n",
              "      <th>meter_reading</th>\n",
              "    </tr>\n",
              "    <tr>\n",
              "      <th>timestamp</th>\n",
              "      <th></th>\n",
              "      <th></th>\n",
              "      <th></th>\n",
              "    </tr>\n",
              "  </thead>\n",
              "  <tbody>\n",
              "    <tr>\n",
              "      <th>2016-02-06 00:00:00</th>\n",
              "      <td>981</td>\n",
              "      <td>0</td>\n",
              "      <td>100.28</td>\n",
              "    </tr>\n",
              "    <tr>\n",
              "      <th>2016-02-06 01:00:00</th>\n",
              "      <td>981</td>\n",
              "      <td>0</td>\n",
              "      <td>92.28</td>\n",
              "    </tr>\n",
              "    <tr>\n",
              "      <th>2016-02-06 02:00:00</th>\n",
              "      <td>981</td>\n",
              "      <td>0</td>\n",
              "      <td>94.04</td>\n",
              "    </tr>\n",
              "    <tr>\n",
              "      <th>2016-02-06 03:00:00</th>\n",
              "      <td>981</td>\n",
              "      <td>0</td>\n",
              "      <td>94.28</td>\n",
              "    </tr>\n",
              "    <tr>\n",
              "      <th>2016-02-06 04:00:00</th>\n",
              "      <td>981</td>\n",
              "      <td>0</td>\n",
              "      <td>92.04</td>\n",
              "    </tr>\n",
              "    <tr>\n",
              "      <th>2016-02-06 05:00:00</th>\n",
              "      <td>981</td>\n",
              "      <td>0</td>\n",
              "      <td>91.28</td>\n",
              "    </tr>\n",
              "    <tr>\n",
              "      <th>2016-02-06 06:00:00</th>\n",
              "      <td>981</td>\n",
              "      <td>0</td>\n",
              "      <td>91.28</td>\n",
              "    </tr>\n",
              "    <tr>\n",
              "      <th>2016-02-06 07:00:00</th>\n",
              "      <td>981</td>\n",
              "      <td>0</td>\n",
              "      <td>101.04</td>\n",
              "    </tr>\n",
              "    <tr>\n",
              "      <th>2016-02-06 08:00:00</th>\n",
              "      <td>981</td>\n",
              "      <td>0</td>\n",
              "      <td>106.28</td>\n",
              "    </tr>\n",
              "    <tr>\n",
              "      <th>2016-02-06 09:00:00</th>\n",
              "      <td>981</td>\n",
              "      <td>0</td>\n",
              "      <td>102.28</td>\n",
              "    </tr>\n",
              "    <tr>\n",
              "      <th>2016-02-06 10:00:00</th>\n",
              "      <td>981</td>\n",
              "      <td>0</td>\n",
              "      <td>107.52</td>\n",
              "    </tr>\n",
              "    <tr>\n",
              "      <th>2016-02-06 11:00:00</th>\n",
              "      <td>981</td>\n",
              "      <td>0</td>\n",
              "      <td>110.28</td>\n",
              "    </tr>\n",
              "    <tr>\n",
              "      <th>2016-02-06 12:00:00</th>\n",
              "      <td>981</td>\n",
              "      <td>0</td>\n",
              "      <td>113.28</td>\n",
              "    </tr>\n",
              "    <tr>\n",
              "      <th>2016-02-06 13:00:00</th>\n",
              "      <td>981</td>\n",
              "      <td>0</td>\n",
              "      <td>112.52</td>\n",
              "    </tr>\n",
              "    <tr>\n",
              "      <th>2016-02-06 14:00:00</th>\n",
              "      <td>981</td>\n",
              "      <td>0</td>\n",
              "      <td>114.28</td>\n",
              "    </tr>\n",
              "    <tr>\n",
              "      <th>2016-02-06 15:00:00</th>\n",
              "      <td>981</td>\n",
              "      <td>0</td>\n",
              "      <td>114.52</td>\n",
              "    </tr>\n",
              "    <tr>\n",
              "      <th>2016-02-06 16:00:00</th>\n",
              "      <td>981</td>\n",
              "      <td>0</td>\n",
              "      <td>114.28</td>\n",
              "    </tr>\n",
              "    <tr>\n",
              "      <th>2016-02-06 17:00:00</th>\n",
              "      <td>981</td>\n",
              "      <td>0</td>\n",
              "      <td>114.04</td>\n",
              "    </tr>\n",
              "    <tr>\n",
              "      <th>2016-02-06 18:00:00</th>\n",
              "      <td>981</td>\n",
              "      <td>0</td>\n",
              "      <td>109.04</td>\n",
              "    </tr>\n",
              "    <tr>\n",
              "      <th>2016-02-06 19:00:00</th>\n",
              "      <td>981</td>\n",
              "      <td>0</td>\n",
              "      <td>114.04</td>\n",
              "    </tr>\n",
              "    <tr>\n",
              "      <th>2016-02-06 20:00:00</th>\n",
              "      <td>981</td>\n",
              "      <td>0</td>\n",
              "      <td>109.80</td>\n",
              "    </tr>\n",
              "    <tr>\n",
              "      <th>2016-02-06 21:00:00</th>\n",
              "      <td>981</td>\n",
              "      <td>0</td>\n",
              "      <td>113.04</td>\n",
              "    </tr>\n",
              "    <tr>\n",
              "      <th>2016-02-06 22:00:00</th>\n",
              "      <td>981</td>\n",
              "      <td>0</td>\n",
              "      <td>112.04</td>\n",
              "    </tr>\n",
              "    <tr>\n",
              "      <th>2016-02-06 23:00:00</th>\n",
              "      <td>981</td>\n",
              "      <td>0</td>\n",
              "      <td>106.80</td>\n",
              "    </tr>\n",
              "  </tbody>\n",
              "</table>\n",
              "</div>"
            ],
            "text/plain": [
              "                     building_id  meter  meter_reading\n",
              "timestamp                                             \n",
              "2016-02-06 00:00:00          981      0         100.28\n",
              "2016-02-06 01:00:00          981      0          92.28\n",
              "2016-02-06 02:00:00          981      0          94.04\n",
              "2016-02-06 03:00:00          981      0          94.28\n",
              "2016-02-06 04:00:00          981      0          92.04\n",
              "2016-02-06 05:00:00          981      0          91.28\n",
              "2016-02-06 06:00:00          981      0          91.28\n",
              "2016-02-06 07:00:00          981      0         101.04\n",
              "2016-02-06 08:00:00          981      0         106.28\n",
              "2016-02-06 09:00:00          981      0         102.28\n",
              "2016-02-06 10:00:00          981      0         107.52\n",
              "2016-02-06 11:00:00          981      0         110.28\n",
              "2016-02-06 12:00:00          981      0         113.28\n",
              "2016-02-06 13:00:00          981      0         112.52\n",
              "2016-02-06 14:00:00          981      0         114.28\n",
              "2016-02-06 15:00:00          981      0         114.52\n",
              "2016-02-06 16:00:00          981      0         114.28\n",
              "2016-02-06 17:00:00          981      0         114.04\n",
              "2016-02-06 18:00:00          981      0         109.04\n",
              "2016-02-06 19:00:00          981      0         114.04\n",
              "2016-02-06 20:00:00          981      0         109.80\n",
              "2016-02-06 21:00:00          981      0         113.04\n",
              "2016-02-06 22:00:00          981      0         112.04\n",
              "2016-02-06 23:00:00          981      0         106.80"
            ]
          },
          "metadata": {},
          "execution_count": 52
        }
      ]
    },
    {
      "cell_type": "code",
      "metadata": {
        "colab": {
          "base_uri": "https://localhost:8080/",
          "height": 1000
        },
        "id": "Os72vYxBZml1",
        "outputId": "a3f76277-3e9a-483a-a1bc-7b38fb6596c6"
      },
      "source": [
        "dm4 =dm1.merge(dz, how='inner', on='timestamp')\n",
        "dm4 = dm4[(dm4.site_id == 9)][date]\n",
        "dm4.fillna(0)"
      ],
      "execution_count": null,
      "outputs": [
        {
          "output_type": "execute_result",
          "data": {
            "text/html": [
              "<div>\n",
              "<style scoped>\n",
              "    .dataframe tbody tr th:only-of-type {\n",
              "        vertical-align: middle;\n",
              "    }\n",
              "\n",
              "    .dataframe tbody tr th {\n",
              "        vertical-align: top;\n",
              "    }\n",
              "\n",
              "    .dataframe thead th {\n",
              "        text-align: right;\n",
              "    }\n",
              "</style>\n",
              "<table border=\"1\" class=\"dataframe\">\n",
              "  <thead>\n",
              "    <tr style=\"text-align: right;\">\n",
              "      <th></th>\n",
              "      <th>building_id</th>\n",
              "      <th>meter</th>\n",
              "      <th>meter_reading</th>\n",
              "      <th>site_id</th>\n",
              "      <th>air_temperature</th>\n",
              "      <th>cloud_coverage</th>\n",
              "      <th>dew_temperature</th>\n",
              "      <th>precip_depth_1_hr</th>\n",
              "      <th>sea_level_pressure</th>\n",
              "      <th>wind_direction</th>\n",
              "      <th>wind_speed</th>\n",
              "    </tr>\n",
              "    <tr>\n",
              "      <th>timestamp</th>\n",
              "      <th></th>\n",
              "      <th></th>\n",
              "      <th></th>\n",
              "      <th></th>\n",
              "      <th></th>\n",
              "      <th></th>\n",
              "      <th></th>\n",
              "      <th></th>\n",
              "      <th></th>\n",
              "      <th></th>\n",
              "      <th></th>\n",
              "    </tr>\n",
              "  </thead>\n",
              "  <tbody>\n",
              "    <tr>\n",
              "      <th>2016-02-06 00:00:00</th>\n",
              "      <td>981</td>\n",
              "      <td>0</td>\n",
              "      <td>100.28</td>\n",
              "      <td>9</td>\n",
              "      <td>13.9</td>\n",
              "      <td>0.0</td>\n",
              "      <td>-1.1</td>\n",
              "      <td>0.0</td>\n",
              "      <td>1025.9</td>\n",
              "      <td>0.0</td>\n",
              "      <td>2.6</td>\n",
              "    </tr>\n",
              "    <tr>\n",
              "      <th>2016-02-06 01:00:00</th>\n",
              "      <td>981</td>\n",
              "      <td>0</td>\n",
              "      <td>92.28</td>\n",
              "      <td>9</td>\n",
              "      <td>13.9</td>\n",
              "      <td>0.0</td>\n",
              "      <td>-0.6</td>\n",
              "      <td>0.0</td>\n",
              "      <td>1026.0</td>\n",
              "      <td>160.0</td>\n",
              "      <td>2.6</td>\n",
              "    </tr>\n",
              "    <tr>\n",
              "      <th>2016-02-06 02:00:00</th>\n",
              "      <td>981</td>\n",
              "      <td>0</td>\n",
              "      <td>94.04</td>\n",
              "      <td>9</td>\n",
              "      <td>13.3</td>\n",
              "      <td>0.0</td>\n",
              "      <td>0.6</td>\n",
              "      <td>0.0</td>\n",
              "      <td>1026.4</td>\n",
              "      <td>150.0</td>\n",
              "      <td>3.6</td>\n",
              "    </tr>\n",
              "    <tr>\n",
              "      <th>2016-02-06 03:00:00</th>\n",
              "      <td>981</td>\n",
              "      <td>0</td>\n",
              "      <td>94.28</td>\n",
              "      <td>9</td>\n",
              "      <td>12.8</td>\n",
              "      <td>0.0</td>\n",
              "      <td>2.2</td>\n",
              "      <td>0.0</td>\n",
              "      <td>1026.9</td>\n",
              "      <td>180.0</td>\n",
              "      <td>2.6</td>\n",
              "    </tr>\n",
              "    <tr>\n",
              "      <th>2016-02-06 04:00:00</th>\n",
              "      <td>981</td>\n",
              "      <td>0</td>\n",
              "      <td>92.04</td>\n",
              "      <td>9</td>\n",
              "      <td>12.2</td>\n",
              "      <td>0.0</td>\n",
              "      <td>3.3</td>\n",
              "      <td>0.0</td>\n",
              "      <td>1027.1</td>\n",
              "      <td>0.0</td>\n",
              "      <td>2.6</td>\n",
              "    </tr>\n",
              "    <tr>\n",
              "      <th>2016-02-06 05:00:00</th>\n",
              "      <td>981</td>\n",
              "      <td>0</td>\n",
              "      <td>91.28</td>\n",
              "      <td>9</td>\n",
              "      <td>11.7</td>\n",
              "      <td>0.0</td>\n",
              "      <td>3.9</td>\n",
              "      <td>0.0</td>\n",
              "      <td>1027.1</td>\n",
              "      <td>0.0</td>\n",
              "      <td>2.1</td>\n",
              "    </tr>\n",
              "    <tr>\n",
              "      <th>2016-02-06 06:00:00</th>\n",
              "      <td>981</td>\n",
              "      <td>0</td>\n",
              "      <td>91.28</td>\n",
              "      <td>9</td>\n",
              "      <td>9.4</td>\n",
              "      <td>0.0</td>\n",
              "      <td>3.9</td>\n",
              "      <td>0.0</td>\n",
              "      <td>1026.7</td>\n",
              "      <td>0.0</td>\n",
              "      <td>2.1</td>\n",
              "    </tr>\n",
              "    <tr>\n",
              "      <th>2016-02-06 07:00:00</th>\n",
              "      <td>981</td>\n",
              "      <td>0</td>\n",
              "      <td>101.04</td>\n",
              "      <td>9</td>\n",
              "      <td>10.6</td>\n",
              "      <td>0.0</td>\n",
              "      <td>3.9</td>\n",
              "      <td>-1.0</td>\n",
              "      <td>1026.7</td>\n",
              "      <td>200.0</td>\n",
              "      <td>2.6</td>\n",
              "    </tr>\n",
              "    <tr>\n",
              "      <th>2016-02-06 08:00:00</th>\n",
              "      <td>981</td>\n",
              "      <td>0</td>\n",
              "      <td>106.28</td>\n",
              "      <td>9</td>\n",
              "      <td>10.0</td>\n",
              "      <td>0.0</td>\n",
              "      <td>5.0</td>\n",
              "      <td>-1.0</td>\n",
              "      <td>0.0</td>\n",
              "      <td>290.0</td>\n",
              "      <td>4.1</td>\n",
              "    </tr>\n",
              "    <tr>\n",
              "      <th>2016-02-06 09:00:00</th>\n",
              "      <td>981</td>\n",
              "      <td>0</td>\n",
              "      <td>102.28</td>\n",
              "      <td>9</td>\n",
              "      <td>9.4</td>\n",
              "      <td>0.0</td>\n",
              "      <td>4.4</td>\n",
              "      <td>-1.0</td>\n",
              "      <td>1026.6</td>\n",
              "      <td>0.0</td>\n",
              "      <td>0.0</td>\n",
              "    </tr>\n",
              "    <tr>\n",
              "      <th>2016-02-06 10:00:00</th>\n",
              "      <td>981</td>\n",
              "      <td>0</td>\n",
              "      <td>107.52</td>\n",
              "      <td>9</td>\n",
              "      <td>8.3</td>\n",
              "      <td>0.0</td>\n",
              "      <td>3.3</td>\n",
              "      <td>0.0</td>\n",
              "      <td>1026.5</td>\n",
              "      <td>0.0</td>\n",
              "      <td>2.1</td>\n",
              "    </tr>\n",
              "    <tr>\n",
              "      <th>2016-02-06 11:00:00</th>\n",
              "      <td>981</td>\n",
              "      <td>0</td>\n",
              "      <td>110.28</td>\n",
              "      <td>9</td>\n",
              "      <td>7.8</td>\n",
              "      <td>0.0</td>\n",
              "      <td>0.6</td>\n",
              "      <td>0.0</td>\n",
              "      <td>1026.4</td>\n",
              "      <td>280.0</td>\n",
              "      <td>2.1</td>\n",
              "    </tr>\n",
              "    <tr>\n",
              "      <th>2016-02-06 12:00:00</th>\n",
              "      <td>981</td>\n",
              "      <td>0</td>\n",
              "      <td>113.28</td>\n",
              "      <td>9</td>\n",
              "      <td>7.8</td>\n",
              "      <td>0.0</td>\n",
              "      <td>-3.3</td>\n",
              "      <td>0.0</td>\n",
              "      <td>1026.3</td>\n",
              "      <td>290.0</td>\n",
              "      <td>3.1</td>\n",
              "    </tr>\n",
              "    <tr>\n",
              "      <th>2016-02-06 13:00:00</th>\n",
              "      <td>981</td>\n",
              "      <td>0</td>\n",
              "      <td>112.52</td>\n",
              "      <td>9</td>\n",
              "      <td>7.2</td>\n",
              "      <td>0.0</td>\n",
              "      <td>-3.9</td>\n",
              "      <td>0.0</td>\n",
              "      <td>1026.4</td>\n",
              "      <td>300.0</td>\n",
              "      <td>2.1</td>\n",
              "    </tr>\n",
              "    <tr>\n",
              "      <th>2016-02-06 14:00:00</th>\n",
              "      <td>981</td>\n",
              "      <td>0</td>\n",
              "      <td>114.28</td>\n",
              "      <td>9</td>\n",
              "      <td>7.8</td>\n",
              "      <td>0.0</td>\n",
              "      <td>-3.3</td>\n",
              "      <td>0.0</td>\n",
              "      <td>1027.4</td>\n",
              "      <td>310.0</td>\n",
              "      <td>5.7</td>\n",
              "    </tr>\n",
              "    <tr>\n",
              "      <th>2016-02-06 15:00:00</th>\n",
              "      <td>981</td>\n",
              "      <td>0</td>\n",
              "      <td>114.52</td>\n",
              "      <td>9</td>\n",
              "      <td>8.9</td>\n",
              "      <td>0.0</td>\n",
              "      <td>-2.8</td>\n",
              "      <td>0.0</td>\n",
              "      <td>1028.4</td>\n",
              "      <td>300.0</td>\n",
              "      <td>3.6</td>\n",
              "    </tr>\n",
              "    <tr>\n",
              "      <th>2016-02-06 16:00:00</th>\n",
              "      <td>981</td>\n",
              "      <td>0</td>\n",
              "      <td>114.28</td>\n",
              "      <td>9</td>\n",
              "      <td>10.0</td>\n",
              "      <td>0.0</td>\n",
              "      <td>-1.7</td>\n",
              "      <td>0.0</td>\n",
              "      <td>1029.0</td>\n",
              "      <td>300.0</td>\n",
              "      <td>4.6</td>\n",
              "    </tr>\n",
              "    <tr>\n",
              "      <th>2016-02-06 17:00:00</th>\n",
              "      <td>981</td>\n",
              "      <td>0</td>\n",
              "      <td>114.04</td>\n",
              "      <td>9</td>\n",
              "      <td>12.2</td>\n",
              "      <td>0.0</td>\n",
              "      <td>-3.9</td>\n",
              "      <td>0.0</td>\n",
              "      <td>1029.4</td>\n",
              "      <td>320.0</td>\n",
              "      <td>6.2</td>\n",
              "    </tr>\n",
              "    <tr>\n",
              "      <th>2016-02-06 18:00:00</th>\n",
              "      <td>981</td>\n",
              "      <td>0</td>\n",
              "      <td>109.04</td>\n",
              "      <td>9</td>\n",
              "      <td>13.3</td>\n",
              "      <td>0.0</td>\n",
              "      <td>-3.9</td>\n",
              "      <td>0.0</td>\n",
              "      <td>1029.3</td>\n",
              "      <td>340.0</td>\n",
              "      <td>4.1</td>\n",
              "    </tr>\n",
              "    <tr>\n",
              "      <th>2016-02-06 19:00:00</th>\n",
              "      <td>981</td>\n",
              "      <td>0</td>\n",
              "      <td>114.04</td>\n",
              "      <td>9</td>\n",
              "      <td>14.4</td>\n",
              "      <td>0.0</td>\n",
              "      <td>-3.9</td>\n",
              "      <td>0.0</td>\n",
              "      <td>1028.4</td>\n",
              "      <td>340.0</td>\n",
              "      <td>4.6</td>\n",
              "    </tr>\n",
              "    <tr>\n",
              "      <th>2016-02-06 20:00:00</th>\n",
              "      <td>981</td>\n",
              "      <td>0</td>\n",
              "      <td>109.80</td>\n",
              "      <td>9</td>\n",
              "      <td>15.0</td>\n",
              "      <td>0.0</td>\n",
              "      <td>-2.8</td>\n",
              "      <td>0.0</td>\n",
              "      <td>1027.8</td>\n",
              "      <td>350.0</td>\n",
              "      <td>6.7</td>\n",
              "    </tr>\n",
              "    <tr>\n",
              "      <th>2016-02-06 21:00:00</th>\n",
              "      <td>981</td>\n",
              "      <td>0</td>\n",
              "      <td>113.04</td>\n",
              "      <td>9</td>\n",
              "      <td>15.0</td>\n",
              "      <td>0.0</td>\n",
              "      <td>-3.3</td>\n",
              "      <td>0.0</td>\n",
              "      <td>1027.8</td>\n",
              "      <td>330.0</td>\n",
              "      <td>6.2</td>\n",
              "    </tr>\n",
              "    <tr>\n",
              "      <th>2016-02-06 22:00:00</th>\n",
              "      <td>981</td>\n",
              "      <td>0</td>\n",
              "      <td>112.04</td>\n",
              "      <td>9</td>\n",
              "      <td>15.6</td>\n",
              "      <td>0.0</td>\n",
              "      <td>-2.8</td>\n",
              "      <td>0.0</td>\n",
              "      <td>1027.4</td>\n",
              "      <td>360.0</td>\n",
              "      <td>3.6</td>\n",
              "    </tr>\n",
              "    <tr>\n",
              "      <th>2016-02-06 23:00:00</th>\n",
              "      <td>981</td>\n",
              "      <td>0</td>\n",
              "      <td>106.80</td>\n",
              "      <td>9</td>\n",
              "      <td>14.4</td>\n",
              "      <td>0.0</td>\n",
              "      <td>-2.8</td>\n",
              "      <td>0.0</td>\n",
              "      <td>1027.8</td>\n",
              "      <td>340.0</td>\n",
              "      <td>3.6</td>\n",
              "    </tr>\n",
              "  </tbody>\n",
              "</table>\n",
              "</div>"
            ],
            "text/plain": [
              "                     building_id  meter  ...  wind_direction  wind_speed\n",
              "timestamp                                ...                            \n",
              "2016-02-06 00:00:00          981      0  ...             0.0         2.6\n",
              "2016-02-06 01:00:00          981      0  ...           160.0         2.6\n",
              "2016-02-06 02:00:00          981      0  ...           150.0         3.6\n",
              "2016-02-06 03:00:00          981      0  ...           180.0         2.6\n",
              "2016-02-06 04:00:00          981      0  ...             0.0         2.6\n",
              "2016-02-06 05:00:00          981      0  ...             0.0         2.1\n",
              "2016-02-06 06:00:00          981      0  ...             0.0         2.1\n",
              "2016-02-06 07:00:00          981      0  ...           200.0         2.6\n",
              "2016-02-06 08:00:00          981      0  ...           290.0         4.1\n",
              "2016-02-06 09:00:00          981      0  ...             0.0         0.0\n",
              "2016-02-06 10:00:00          981      0  ...             0.0         2.1\n",
              "2016-02-06 11:00:00          981      0  ...           280.0         2.1\n",
              "2016-02-06 12:00:00          981      0  ...           290.0         3.1\n",
              "2016-02-06 13:00:00          981      0  ...           300.0         2.1\n",
              "2016-02-06 14:00:00          981      0  ...           310.0         5.7\n",
              "2016-02-06 15:00:00          981      0  ...           300.0         3.6\n",
              "2016-02-06 16:00:00          981      0  ...           300.0         4.6\n",
              "2016-02-06 17:00:00          981      0  ...           320.0         6.2\n",
              "2016-02-06 18:00:00          981      0  ...           340.0         4.1\n",
              "2016-02-06 19:00:00          981      0  ...           340.0         4.6\n",
              "2016-02-06 20:00:00          981      0  ...           350.0         6.7\n",
              "2016-02-06 21:00:00          981      0  ...           330.0         6.2\n",
              "2016-02-06 22:00:00          981      0  ...           360.0         3.6\n",
              "2016-02-06 23:00:00          981      0  ...           340.0         3.6\n",
              "\n",
              "[24 rows x 11 columns]"
            ]
          },
          "metadata": {},
          "execution_count": 53
        }
      ]
    },
    {
      "cell_type": "code",
      "metadata": {
        "colab": {
          "base_uri": "https://localhost:8080/",
          "height": 804
        },
        "id": "6-m86lcncBxJ",
        "outputId": "67b671c8-8d48-42c7-bc24-c27955d33fbb"
      },
      "source": [
        "dm5 = dm4.merge(dmb, how='inner', on='building_id')\n",
        "dm5 = dm5.fillna(0)\n",
        "dm5.fillna(0)"
      ],
      "execution_count": null,
      "outputs": [
        {
          "output_type": "execute_result",
          "data": {
            "text/html": [
              "<div>\n",
              "<style scoped>\n",
              "    .dataframe tbody tr th:only-of-type {\n",
              "        vertical-align: middle;\n",
              "    }\n",
              "\n",
              "    .dataframe tbody tr th {\n",
              "        vertical-align: top;\n",
              "    }\n",
              "\n",
              "    .dataframe thead th {\n",
              "        text-align: right;\n",
              "    }\n",
              "</style>\n",
              "<table border=\"1\" class=\"dataframe\">\n",
              "  <thead>\n",
              "    <tr style=\"text-align: right;\">\n",
              "      <th></th>\n",
              "      <th>building_id</th>\n",
              "      <th>meter</th>\n",
              "      <th>meter_reading</th>\n",
              "      <th>site_id_x</th>\n",
              "      <th>air_temperature</th>\n",
              "      <th>cloud_coverage</th>\n",
              "      <th>dew_temperature</th>\n",
              "      <th>precip_depth_1_hr</th>\n",
              "      <th>sea_level_pressure</th>\n",
              "      <th>wind_direction</th>\n",
              "      <th>wind_speed</th>\n",
              "      <th>site_id_y</th>\n",
              "      <th>primary_use</th>\n",
              "      <th>square_feet</th>\n",
              "      <th>year_built</th>\n",
              "      <th>floor_count</th>\n",
              "    </tr>\n",
              "  </thead>\n",
              "  <tbody>\n",
              "    <tr>\n",
              "      <th>0</th>\n",
              "      <td>981</td>\n",
              "      <td>0</td>\n",
              "      <td>100.28</td>\n",
              "      <td>9</td>\n",
              "      <td>13.9</td>\n",
              "      <td>0.0</td>\n",
              "      <td>-1.1</td>\n",
              "      <td>0.0</td>\n",
              "      <td>1025.9</td>\n",
              "      <td>0.0</td>\n",
              "      <td>2.6</td>\n",
              "      <td>9</td>\n",
              "      <td>Education</td>\n",
              "      <td>167055</td>\n",
              "      <td>0.0</td>\n",
              "      <td>0.0</td>\n",
              "    </tr>\n",
              "    <tr>\n",
              "      <th>1</th>\n",
              "      <td>981</td>\n",
              "      <td>0</td>\n",
              "      <td>92.28</td>\n",
              "      <td>9</td>\n",
              "      <td>13.9</td>\n",
              "      <td>0.0</td>\n",
              "      <td>-0.6</td>\n",
              "      <td>0.0</td>\n",
              "      <td>1026.0</td>\n",
              "      <td>160.0</td>\n",
              "      <td>2.6</td>\n",
              "      <td>9</td>\n",
              "      <td>Education</td>\n",
              "      <td>167055</td>\n",
              "      <td>0.0</td>\n",
              "      <td>0.0</td>\n",
              "    </tr>\n",
              "    <tr>\n",
              "      <th>2</th>\n",
              "      <td>981</td>\n",
              "      <td>0</td>\n",
              "      <td>94.04</td>\n",
              "      <td>9</td>\n",
              "      <td>13.3</td>\n",
              "      <td>0.0</td>\n",
              "      <td>0.6</td>\n",
              "      <td>0.0</td>\n",
              "      <td>1026.4</td>\n",
              "      <td>150.0</td>\n",
              "      <td>3.6</td>\n",
              "      <td>9</td>\n",
              "      <td>Education</td>\n",
              "      <td>167055</td>\n",
              "      <td>0.0</td>\n",
              "      <td>0.0</td>\n",
              "    </tr>\n",
              "    <tr>\n",
              "      <th>3</th>\n",
              "      <td>981</td>\n",
              "      <td>0</td>\n",
              "      <td>94.28</td>\n",
              "      <td>9</td>\n",
              "      <td>12.8</td>\n",
              "      <td>0.0</td>\n",
              "      <td>2.2</td>\n",
              "      <td>0.0</td>\n",
              "      <td>1026.9</td>\n",
              "      <td>180.0</td>\n",
              "      <td>2.6</td>\n",
              "      <td>9</td>\n",
              "      <td>Education</td>\n",
              "      <td>167055</td>\n",
              "      <td>0.0</td>\n",
              "      <td>0.0</td>\n",
              "    </tr>\n",
              "    <tr>\n",
              "      <th>4</th>\n",
              "      <td>981</td>\n",
              "      <td>0</td>\n",
              "      <td>92.04</td>\n",
              "      <td>9</td>\n",
              "      <td>12.2</td>\n",
              "      <td>0.0</td>\n",
              "      <td>3.3</td>\n",
              "      <td>0.0</td>\n",
              "      <td>1027.1</td>\n",
              "      <td>0.0</td>\n",
              "      <td>2.6</td>\n",
              "      <td>9</td>\n",
              "      <td>Education</td>\n",
              "      <td>167055</td>\n",
              "      <td>0.0</td>\n",
              "      <td>0.0</td>\n",
              "    </tr>\n",
              "    <tr>\n",
              "      <th>5</th>\n",
              "      <td>981</td>\n",
              "      <td>0</td>\n",
              "      <td>91.28</td>\n",
              "      <td>9</td>\n",
              "      <td>11.7</td>\n",
              "      <td>0.0</td>\n",
              "      <td>3.9</td>\n",
              "      <td>0.0</td>\n",
              "      <td>1027.1</td>\n",
              "      <td>0.0</td>\n",
              "      <td>2.1</td>\n",
              "      <td>9</td>\n",
              "      <td>Education</td>\n",
              "      <td>167055</td>\n",
              "      <td>0.0</td>\n",
              "      <td>0.0</td>\n",
              "    </tr>\n",
              "    <tr>\n",
              "      <th>6</th>\n",
              "      <td>981</td>\n",
              "      <td>0</td>\n",
              "      <td>91.28</td>\n",
              "      <td>9</td>\n",
              "      <td>9.4</td>\n",
              "      <td>0.0</td>\n",
              "      <td>3.9</td>\n",
              "      <td>0.0</td>\n",
              "      <td>1026.7</td>\n",
              "      <td>0.0</td>\n",
              "      <td>2.1</td>\n",
              "      <td>9</td>\n",
              "      <td>Education</td>\n",
              "      <td>167055</td>\n",
              "      <td>0.0</td>\n",
              "      <td>0.0</td>\n",
              "    </tr>\n",
              "    <tr>\n",
              "      <th>7</th>\n",
              "      <td>981</td>\n",
              "      <td>0</td>\n",
              "      <td>101.04</td>\n",
              "      <td>9</td>\n",
              "      <td>10.6</td>\n",
              "      <td>0.0</td>\n",
              "      <td>3.9</td>\n",
              "      <td>-1.0</td>\n",
              "      <td>1026.7</td>\n",
              "      <td>200.0</td>\n",
              "      <td>2.6</td>\n",
              "      <td>9</td>\n",
              "      <td>Education</td>\n",
              "      <td>167055</td>\n",
              "      <td>0.0</td>\n",
              "      <td>0.0</td>\n",
              "    </tr>\n",
              "    <tr>\n",
              "      <th>8</th>\n",
              "      <td>981</td>\n",
              "      <td>0</td>\n",
              "      <td>106.28</td>\n",
              "      <td>9</td>\n",
              "      <td>10.0</td>\n",
              "      <td>0.0</td>\n",
              "      <td>5.0</td>\n",
              "      <td>-1.0</td>\n",
              "      <td>0.0</td>\n",
              "      <td>290.0</td>\n",
              "      <td>4.1</td>\n",
              "      <td>9</td>\n",
              "      <td>Education</td>\n",
              "      <td>167055</td>\n",
              "      <td>0.0</td>\n",
              "      <td>0.0</td>\n",
              "    </tr>\n",
              "    <tr>\n",
              "      <th>9</th>\n",
              "      <td>981</td>\n",
              "      <td>0</td>\n",
              "      <td>102.28</td>\n",
              "      <td>9</td>\n",
              "      <td>9.4</td>\n",
              "      <td>0.0</td>\n",
              "      <td>4.4</td>\n",
              "      <td>-1.0</td>\n",
              "      <td>1026.6</td>\n",
              "      <td>0.0</td>\n",
              "      <td>0.0</td>\n",
              "      <td>9</td>\n",
              "      <td>Education</td>\n",
              "      <td>167055</td>\n",
              "      <td>0.0</td>\n",
              "      <td>0.0</td>\n",
              "    </tr>\n",
              "    <tr>\n",
              "      <th>10</th>\n",
              "      <td>981</td>\n",
              "      <td>0</td>\n",
              "      <td>107.52</td>\n",
              "      <td>9</td>\n",
              "      <td>8.3</td>\n",
              "      <td>0.0</td>\n",
              "      <td>3.3</td>\n",
              "      <td>0.0</td>\n",
              "      <td>1026.5</td>\n",
              "      <td>0.0</td>\n",
              "      <td>2.1</td>\n",
              "      <td>9</td>\n",
              "      <td>Education</td>\n",
              "      <td>167055</td>\n",
              "      <td>0.0</td>\n",
              "      <td>0.0</td>\n",
              "    </tr>\n",
              "    <tr>\n",
              "      <th>11</th>\n",
              "      <td>981</td>\n",
              "      <td>0</td>\n",
              "      <td>110.28</td>\n",
              "      <td>9</td>\n",
              "      <td>7.8</td>\n",
              "      <td>0.0</td>\n",
              "      <td>0.6</td>\n",
              "      <td>0.0</td>\n",
              "      <td>1026.4</td>\n",
              "      <td>280.0</td>\n",
              "      <td>2.1</td>\n",
              "      <td>9</td>\n",
              "      <td>Education</td>\n",
              "      <td>167055</td>\n",
              "      <td>0.0</td>\n",
              "      <td>0.0</td>\n",
              "    </tr>\n",
              "    <tr>\n",
              "      <th>12</th>\n",
              "      <td>981</td>\n",
              "      <td>0</td>\n",
              "      <td>113.28</td>\n",
              "      <td>9</td>\n",
              "      <td>7.8</td>\n",
              "      <td>0.0</td>\n",
              "      <td>-3.3</td>\n",
              "      <td>0.0</td>\n",
              "      <td>1026.3</td>\n",
              "      <td>290.0</td>\n",
              "      <td>3.1</td>\n",
              "      <td>9</td>\n",
              "      <td>Education</td>\n",
              "      <td>167055</td>\n",
              "      <td>0.0</td>\n",
              "      <td>0.0</td>\n",
              "    </tr>\n",
              "    <tr>\n",
              "      <th>13</th>\n",
              "      <td>981</td>\n",
              "      <td>0</td>\n",
              "      <td>112.52</td>\n",
              "      <td>9</td>\n",
              "      <td>7.2</td>\n",
              "      <td>0.0</td>\n",
              "      <td>-3.9</td>\n",
              "      <td>0.0</td>\n",
              "      <td>1026.4</td>\n",
              "      <td>300.0</td>\n",
              "      <td>2.1</td>\n",
              "      <td>9</td>\n",
              "      <td>Education</td>\n",
              "      <td>167055</td>\n",
              "      <td>0.0</td>\n",
              "      <td>0.0</td>\n",
              "    </tr>\n",
              "    <tr>\n",
              "      <th>14</th>\n",
              "      <td>981</td>\n",
              "      <td>0</td>\n",
              "      <td>114.28</td>\n",
              "      <td>9</td>\n",
              "      <td>7.8</td>\n",
              "      <td>0.0</td>\n",
              "      <td>-3.3</td>\n",
              "      <td>0.0</td>\n",
              "      <td>1027.4</td>\n",
              "      <td>310.0</td>\n",
              "      <td>5.7</td>\n",
              "      <td>9</td>\n",
              "      <td>Education</td>\n",
              "      <td>167055</td>\n",
              "      <td>0.0</td>\n",
              "      <td>0.0</td>\n",
              "    </tr>\n",
              "    <tr>\n",
              "      <th>15</th>\n",
              "      <td>981</td>\n",
              "      <td>0</td>\n",
              "      <td>114.52</td>\n",
              "      <td>9</td>\n",
              "      <td>8.9</td>\n",
              "      <td>0.0</td>\n",
              "      <td>-2.8</td>\n",
              "      <td>0.0</td>\n",
              "      <td>1028.4</td>\n",
              "      <td>300.0</td>\n",
              "      <td>3.6</td>\n",
              "      <td>9</td>\n",
              "      <td>Education</td>\n",
              "      <td>167055</td>\n",
              "      <td>0.0</td>\n",
              "      <td>0.0</td>\n",
              "    </tr>\n",
              "    <tr>\n",
              "      <th>16</th>\n",
              "      <td>981</td>\n",
              "      <td>0</td>\n",
              "      <td>114.28</td>\n",
              "      <td>9</td>\n",
              "      <td>10.0</td>\n",
              "      <td>0.0</td>\n",
              "      <td>-1.7</td>\n",
              "      <td>0.0</td>\n",
              "      <td>1029.0</td>\n",
              "      <td>300.0</td>\n",
              "      <td>4.6</td>\n",
              "      <td>9</td>\n",
              "      <td>Education</td>\n",
              "      <td>167055</td>\n",
              "      <td>0.0</td>\n",
              "      <td>0.0</td>\n",
              "    </tr>\n",
              "    <tr>\n",
              "      <th>17</th>\n",
              "      <td>981</td>\n",
              "      <td>0</td>\n",
              "      <td>114.04</td>\n",
              "      <td>9</td>\n",
              "      <td>12.2</td>\n",
              "      <td>0.0</td>\n",
              "      <td>-3.9</td>\n",
              "      <td>0.0</td>\n",
              "      <td>1029.4</td>\n",
              "      <td>320.0</td>\n",
              "      <td>6.2</td>\n",
              "      <td>9</td>\n",
              "      <td>Education</td>\n",
              "      <td>167055</td>\n",
              "      <td>0.0</td>\n",
              "      <td>0.0</td>\n",
              "    </tr>\n",
              "    <tr>\n",
              "      <th>18</th>\n",
              "      <td>981</td>\n",
              "      <td>0</td>\n",
              "      <td>109.04</td>\n",
              "      <td>9</td>\n",
              "      <td>13.3</td>\n",
              "      <td>0.0</td>\n",
              "      <td>-3.9</td>\n",
              "      <td>0.0</td>\n",
              "      <td>1029.3</td>\n",
              "      <td>340.0</td>\n",
              "      <td>4.1</td>\n",
              "      <td>9</td>\n",
              "      <td>Education</td>\n",
              "      <td>167055</td>\n",
              "      <td>0.0</td>\n",
              "      <td>0.0</td>\n",
              "    </tr>\n",
              "    <tr>\n",
              "      <th>19</th>\n",
              "      <td>981</td>\n",
              "      <td>0</td>\n",
              "      <td>114.04</td>\n",
              "      <td>9</td>\n",
              "      <td>14.4</td>\n",
              "      <td>0.0</td>\n",
              "      <td>-3.9</td>\n",
              "      <td>0.0</td>\n",
              "      <td>1028.4</td>\n",
              "      <td>340.0</td>\n",
              "      <td>4.6</td>\n",
              "      <td>9</td>\n",
              "      <td>Education</td>\n",
              "      <td>167055</td>\n",
              "      <td>0.0</td>\n",
              "      <td>0.0</td>\n",
              "    </tr>\n",
              "    <tr>\n",
              "      <th>20</th>\n",
              "      <td>981</td>\n",
              "      <td>0</td>\n",
              "      <td>109.80</td>\n",
              "      <td>9</td>\n",
              "      <td>15.0</td>\n",
              "      <td>0.0</td>\n",
              "      <td>-2.8</td>\n",
              "      <td>0.0</td>\n",
              "      <td>1027.8</td>\n",
              "      <td>350.0</td>\n",
              "      <td>6.7</td>\n",
              "      <td>9</td>\n",
              "      <td>Education</td>\n",
              "      <td>167055</td>\n",
              "      <td>0.0</td>\n",
              "      <td>0.0</td>\n",
              "    </tr>\n",
              "    <tr>\n",
              "      <th>21</th>\n",
              "      <td>981</td>\n",
              "      <td>0</td>\n",
              "      <td>113.04</td>\n",
              "      <td>9</td>\n",
              "      <td>15.0</td>\n",
              "      <td>0.0</td>\n",
              "      <td>-3.3</td>\n",
              "      <td>0.0</td>\n",
              "      <td>1027.8</td>\n",
              "      <td>330.0</td>\n",
              "      <td>6.2</td>\n",
              "      <td>9</td>\n",
              "      <td>Education</td>\n",
              "      <td>167055</td>\n",
              "      <td>0.0</td>\n",
              "      <td>0.0</td>\n",
              "    </tr>\n",
              "    <tr>\n",
              "      <th>22</th>\n",
              "      <td>981</td>\n",
              "      <td>0</td>\n",
              "      <td>112.04</td>\n",
              "      <td>9</td>\n",
              "      <td>15.6</td>\n",
              "      <td>0.0</td>\n",
              "      <td>-2.8</td>\n",
              "      <td>0.0</td>\n",
              "      <td>1027.4</td>\n",
              "      <td>360.0</td>\n",
              "      <td>3.6</td>\n",
              "      <td>9</td>\n",
              "      <td>Education</td>\n",
              "      <td>167055</td>\n",
              "      <td>0.0</td>\n",
              "      <td>0.0</td>\n",
              "    </tr>\n",
              "    <tr>\n",
              "      <th>23</th>\n",
              "      <td>981</td>\n",
              "      <td>0</td>\n",
              "      <td>106.80</td>\n",
              "      <td>9</td>\n",
              "      <td>14.4</td>\n",
              "      <td>0.0</td>\n",
              "      <td>-2.8</td>\n",
              "      <td>0.0</td>\n",
              "      <td>1027.8</td>\n",
              "      <td>340.0</td>\n",
              "      <td>3.6</td>\n",
              "      <td>9</td>\n",
              "      <td>Education</td>\n",
              "      <td>167055</td>\n",
              "      <td>0.0</td>\n",
              "      <td>0.0</td>\n",
              "    </tr>\n",
              "  </tbody>\n",
              "</table>\n",
              "</div>"
            ],
            "text/plain": [
              "    building_id  meter  meter_reading  ...  square_feet  year_built  floor_count\n",
              "0           981      0         100.28  ...       167055         0.0          0.0\n",
              "1           981      0          92.28  ...       167055         0.0          0.0\n",
              "2           981      0          94.04  ...       167055         0.0          0.0\n",
              "3           981      0          94.28  ...       167055         0.0          0.0\n",
              "4           981      0          92.04  ...       167055         0.0          0.0\n",
              "5           981      0          91.28  ...       167055         0.0          0.0\n",
              "6           981      0          91.28  ...       167055         0.0          0.0\n",
              "7           981      0         101.04  ...       167055         0.0          0.0\n",
              "8           981      0         106.28  ...       167055         0.0          0.0\n",
              "9           981      0         102.28  ...       167055         0.0          0.0\n",
              "10          981      0         107.52  ...       167055         0.0          0.0\n",
              "11          981      0         110.28  ...       167055         0.0          0.0\n",
              "12          981      0         113.28  ...       167055         0.0          0.0\n",
              "13          981      0         112.52  ...       167055         0.0          0.0\n",
              "14          981      0         114.28  ...       167055         0.0          0.0\n",
              "15          981      0         114.52  ...       167055         0.0          0.0\n",
              "16          981      0         114.28  ...       167055         0.0          0.0\n",
              "17          981      0         114.04  ...       167055         0.0          0.0\n",
              "18          981      0         109.04  ...       167055         0.0          0.0\n",
              "19          981      0         114.04  ...       167055         0.0          0.0\n",
              "20          981      0         109.80  ...       167055         0.0          0.0\n",
              "21          981      0         113.04  ...       167055         0.0          0.0\n",
              "22          981      0         112.04  ...       167055         0.0          0.0\n",
              "23          981      0         106.80  ...       167055         0.0          0.0\n",
              "\n",
              "[24 rows x 16 columns]"
            ]
          },
          "metadata": {},
          "execution_count": 54
        }
      ]
    },
    {
      "cell_type": "code",
      "metadata": {
        "colab": {
          "base_uri": "https://localhost:8080/"
        },
        "id": "zWSj5z54Vwuf",
        "outputId": "af974187-b120-4dbb-dd04-a9514754d853"
      },
      "source": [
        "sumd = dm5['meter_reading'].sum()\n",
        "sumd"
      ],
      "execution_count": null,
      "outputs": [
        {
          "output_type": "execute_result",
          "data": {
            "text/plain": [
              "2530.5600000000004"
            ]
          },
          "metadata": {},
          "execution_count": 55
        }
      ]
    },
    {
      "cell_type": "code",
      "metadata": {
        "colab": {
          "base_uri": "https://localhost:8080/"
        },
        "id": "RI3WDqSuWaF-",
        "outputId": "f62ba0df-7298-4d30-ce1b-445de209db3e"
      },
      "source": [
        "suma = dm5['site_id_x'].sum()+ dm5['air_temperature'].sum() + dm5['cloud_coverage'].sum() + dm5['dew_temperature'].sum() + dm5['precip_depth_1_hr'].sum() + dm5['sea_level_pressure'].sum()+ dm5['wind_direction'].sum() + dm5['wind_speed'].sum()+ dm5['square_feet'].sum()+dm5['year_built'].sum()\n",
        "suma"
      ],
      "execution_count": null,
      "outputs": [
        {
          "output_type": "execute_result",
          "data": {
            "text/plain": [
              "4038649.8"
            ]
          },
          "metadata": {},
          "execution_count": 56
        }
      ]
    },
    {
      "cell_type": "markdown",
      "metadata": {
        "id": "r2T5KxrHsz--"
      },
      "source": [
        "#### provide your answer here, drop the decimals"
      ]
    },
    {
      "cell_type": "code",
      "metadata": {
        "id": "cwKyIxhTsz--",
        "colab": {
          "base_uri": "https://localhost:8080/"
        },
        "outputId": "8a1e4297-66a6-4b98-c916-57e29635cd0c"
      },
      "source": [
        "# target variable sum\n",
        "sumY = sumd\n",
        "\n",
        "# input variables sum\n",
        "sumX = suma\n",
        "\n",
        "sumX, sumY"
      ],
      "execution_count": null,
      "outputs": [
        {
          "output_type": "execute_result",
          "data": {
            "text/plain": [
              "(4038649.8, 2530.5600000000004)"
            ]
          },
          "metadata": {},
          "execution_count": 57
        }
      ]
    },
    {
      "cell_type": "code",
      "metadata": {
        "id": "jC_fa_rSsz-_"
      },
      "source": [
        ""
      ],
      "execution_count": null,
      "outputs": []
    },
    {
      "cell_type": "code",
      "metadata": {
        "id": "Csxwni6psz-_"
      },
      "source": [
        ""
      ],
      "execution_count": null,
      "outputs": []
    },
    {
      "cell_type": "markdown",
      "metadata": {
        "id": "2mrwd-xQsz-_"
      },
      "source": [
        "**submit your answer**"
      ]
    },
    {
      "cell_type": "code",
      "metadata": {
        "scrolled": true,
        "id": "SJjazv_dsz_A",
        "colab": {
          "base_uri": "https://localhost:8080/",
          "height": 124
        },
        "outputId": "a87d7be1-5258-4eb8-a90a-224eebb7adbf"
      },
      "source": [
        "student.submit_task(globals(), task_id=\"task_01\");"
      ],
      "execution_count": null,
      "outputs": [
        {
          "output_type": "display_data",
          "data": {
            "text/html": [
              "\n",
              "                    <b>task_01 submitted.</b> <b><font color=\"blue\">your grade is 5</font></b> \n",
              "                    <p/><pre>----- grader message -------</pre>checking for building_id=981 and date='2016-02-06'<br/><b>correct</b><pre>----------------------------</pre>\n",
              "                    <p/><p/>\n",
              "                    <div style=\"font-size:10px\"><b>SUBMISSION CODE</b> UFY51WvIZZS9GLkD8N1tK16OMP4/K9E/0bbza7rFjwpf+Oj+TDXp5/tXf+btdY/ib4aRAEWbZ6Plh2yZ02OMCVtwUazqgiRgXasWb2gspHhwyum2DOyth41JvAv+xKjk8JgNEKMcHAO6ZjPUuNpHn6n7O6RkwevxUa4yT0P/88s=</div>\n",
              "                    "
            ],
            "text/plain": [
              "<IPython.core.display.HTML object>"
            ]
          },
          "metadata": {}
        }
      ]
    },
    {
      "cell_type": "code",
      "metadata": {
        "id": "1pYKbH4Tsz_A"
      },
      "source": [
        ""
      ],
      "execution_count": null,
      "outputs": []
    },
    {
      "cell_type": "markdown",
      "metadata": {
        "id": "ZFu54LhGsz_A"
      },
      "source": [
        "## Task 2. Time series missing data fix\n",
        "\n",
        "Observe how we can fill in missing data in a time series, by simply repeating the last seen value in the missing places."
      ]
    },
    {
      "cell_type": "code",
      "metadata": {
        "id": "cWjhtwhJsz_B",
        "colab": {
          "base_uri": "https://localhost:8080/",
          "height": 214
        },
        "outputId": "431f2e6b-4a39-46fa-c4cc-7894769c5bd1"
      },
      "source": [
        "Image(\"local/imgs/timeseries-ffill.png\")"
      ],
      "execution_count": null,
      "outputs": [
        {
          "output_type": "execute_result",
          "data": {
            "image/png": "[encoded data removed]",
            "text/plain": [
              "<IPython.core.display.Image object>"
            ]
          },
          "metadata": {},
          "execution_count": 59
        }
      ]
    },
    {
      "cell_type": "markdown",
      "metadata": {
        "id": "tgUfru_isz_C"
      },
      "source": [
        "Using the weather data from the ASHRAE Kaggle competition that you must have downloaded in the previous task you will have to:\n",
        "\n",
        "1. Extract the time series for the variable `cloud_coverage` for **site_id=3** and for the **date assigned to you** (execute the cell below). This time series will have 24 values (including missing values).\n",
        "1. Fill in the missing data by repeating the last seen value as in the example above\n",
        "1. Report the time series as a Pyton list in the variable `fixed_ts` below\n",
        "\n",
        "Again, use any tool of your choice to generate your result"
      ]
    },
    {
      "cell_type": "code",
      "metadata": {
        "id": "G3WSt4Q9sz_D",
        "colab": {
          "base_uri": "https://localhost:8080/"
        },
        "outputId": "c06e089c-0b9b-47f8-f6c5-d9eb28cc56ed"
      },
      "source": [
        "from local.lib import labutils\n",
        "_, date = labutils.biddate_for_student(student.user_id)\n",
        "print (\"your date       \", date)"
      ],
      "execution_count": null,
      "outputs": [
        {
          "output_type": "stream",
          "name": "stdout",
          "text": [
            "your date        2016-02-06\n"
          ]
        }
      ]
    },
    {
      "cell_type": "markdown",
      "metadata": {
        "id": "jVuJVVAusz_E"
      },
      "source": [
        "#### fill in your fixed time series"
      ]
    },
    {
      "cell_type": "code",
      "metadata": {
        "colab": {
          "base_uri": "https://localhost:8080/"
        },
        "id": "EumOlpAqADmD",
        "outputId": "434a018c-913f-4844-ce09-5d74c5970630"
      },
      "source": [
        "dz3 = dz[(dz.site_id==3)][date]\n",
        "fixed_ts = dz3['cloud_coverage'].values.tolist()\n",
        "fixed_ts"
      ],
      "execution_count": null,
      "outputs": [
        {
          "output_type": "execute_result",
          "data": {
            "text/plain": [
              "[0.0,\n",
              " 0.0,\n",
              " 0.0,\n",
              " 4.0,\n",
              " 4.0,\n",
              " 2.0,\n",
              " 2.0,\n",
              " 0.0,\n",
              " 0.0,\n",
              " 0.0,\n",
              " 0.0,\n",
              " 4.0,\n",
              " 6.0,\n",
              " nan,\n",
              " nan,\n",
              " 6.0,\n",
              " nan,\n",
              " nan,\n",
              " 6.0,\n",
              " nan,\n",
              " nan,\n",
              " 6.0,\n",
              " 4.0,\n",
              " nan]"
            ]
          },
          "metadata": {},
          "execution_count": 61
        }
      ]
    },
    {
      "cell_type": "code",
      "metadata": {
        "id": "BE2ngwS1ADjM"
      },
      "source": [
        "dz4 = dz3.fillna(method='ffill')\n",
        "dz4 = dz4.cloud_coverage.to_list()"
      ],
      "execution_count": null,
      "outputs": []
    },
    {
      "cell_type": "code",
      "metadata": {
        "id": "znVCuQCvADeO"
      },
      "source": [
        ""
      ],
      "execution_count": null,
      "outputs": []
    },
    {
      "cell_type": "code",
      "metadata": {
        "id": "QB33jiKosz_E"
      },
      "source": [
        "# for instance\n",
        "# fixed_ts = [6,6,6,4,4,5,6,7,7,7,6,6,6,5,4,3,2,2,1,1,1,2,3,4]\n",
        "fixed_ts = dz4"
      ],
      "execution_count": null,
      "outputs": []
    },
    {
      "cell_type": "markdown",
      "metadata": {
        "id": "ru8BTSaVsz_F"
      },
      "source": [
        "**submit your answer**"
      ]
    },
    {
      "cell_type": "code",
      "metadata": {
        "scrolled": false,
        "id": "G7b9Vn11sz_G",
        "colab": {
          "base_uri": "https://localhost:8080/",
          "height": 124
        },
        "outputId": "1d3a2597-b54a-4597-814e-9cf81bf67c4c"
      },
      "source": [
        "student.submit_task(globals(), task_id=\"task_02\");"
      ],
      "execution_count": null,
      "outputs": [
        {
          "output_type": "display_data",
          "data": {
            "text/html": [
              "\n",
              "                    <b>task_02 submitted.</b> <b><font color=\"blue\">your grade is 5</font></b> \n",
              "                    <p/><pre>----- grader message -------</pre>checking for date='2016-02-06'<br/><b>correct</b><pre>----------------------------</pre>\n",
              "                    <p/><p/>\n",
              "                    <div style=\"font-size:10px\"><b>SUBMISSION CODE</b> 2kq8GKJRbqgp/90FRcNLW+Wr87IbkK2lUZ6+84vrvAn/2IYWK7yCaF3TUVpSnAIDCGNMYXDMJqyoww32vVIBw28gYg07w2M5Ls72bS7xX4iytP9qAtEsCdLjcekkdfnX4F0UqtJRx9nSCc3xBrbKAQM9wb7eXqoRQl+/3H7JV0o=</div>\n",
              "                    "
            ],
            "text/plain": [
              "<IPython.core.display.HTML object>"
            ]
          },
          "metadata": {}
        }
      ]
    },
    {
      "cell_type": "code",
      "metadata": {
        "id": "UfuQjgWDsz_H"
      },
      "source": [
        ""
      ],
      "execution_count": null,
      "outputs": []
    },
    {
      "cell_type": "markdown",
      "metadata": {
        "id": "n_8mr3c3sz_H"
      },
      "source": [
        "## Task 3. Build a time series predictive dataset\n",
        "\n",
        "You will now build a predictive dataset for a single time series. This dataset can later be used with predictive models. The machine learning task we will try to adress is the following:\n",
        "\n",
        "> **Given three consecutive points of a time series, we want a model to predict the next one.**\n",
        "\n",
        "Starting from a time series (a list of of $n$ numbers) you will have to build a dataset such as in the following example\n",
        "\n"
      ]
    },
    {
      "cell_type": "code",
      "metadata": {
        "id": "tt1syxOBsz_H",
        "colab": {
          "base_uri": "https://localhost:8080/",
          "height": 174
        },
        "outputId": "115e9ab0-677f-4ada-cee9-9b1b3c19ee05"
      },
      "source": [
        "\n",
        "import numpy as np\n",
        "import matplotlib.pyplot as plt\n",
        "%matplotlib inline\n",
        "\n",
        "ts = np.r_[44, 45, 42, 38, 47, 45, 46, 44, 47, 52, 53, 48, 46, 42, 42, 34, 30, 27, 24, 24]\n",
        "plt.figure(figsize=(10,2))\n",
        "plt.xticks(range(len(ts)), range(len(ts)))\n",
        "plt.grid();\n",
        "plt.plot(ts)\n",
        "print (ts)\n"
      ],
      "execution_count": null,
      "outputs": [
        {
          "output_type": "stream",
          "name": "stdout",
          "text": [
            "[44 45 42 38 47 45 46 44 47 52 53 48 46 42 42 34 30 27 24 24]\n"
          ]
        },
        {
          "output_type": "display_data",
          "data": {
            "image/png": "[encoded data removed]",
            "text/plain": [
              "<Figure size 720x144 with 1 Axes>"
            ]
          },
          "metadata": {
            "needs_background": "light"
          }
        }
      ]
    },
    {
      "cell_type": "markdown",
      "metadata": {
        "id": "2V7G2YBgsz_I"
      },
      "source": [
        "dataset:\n",
        "\n",
        "    [[[44, 45, 42], 38],\n",
        "     [[45, 42, 38], 47],\n",
        "     [[42, 38, 47], 45],\n",
        "     [[38, 47, 45], 46],\n",
        "     [[47, 45, 46], 44],\n",
        "     [[45, 46, 44], 47],\n",
        "     [[46, 44, 47], 52],\n",
        "     [[44, 47, 52], 53],\n",
        "     [[47, 52, 53], 48],\n",
        "     [[52, 53, 48], 46],\n",
        "     [[53, 48, 46], 42],\n",
        "     [[48, 46, 42], 42],\n",
        "     [[46, 42, 42], 34],\n",
        "     [[42, 42, 34], 30],\n",
        "     [[42, 34, 30], 27],\n",
        "     [[34, 30, 27], 24]]"
      ]
    },
    {
      "cell_type": "markdown",
      "metadata": {
        "id": "T3fKNMwHsz_J"
      },
      "source": [
        "observe that each line in the dataset represents one input-output pair, like a sliding window over the time series. \n",
        "\n",
        "We created two components:\n",
        "\n",
        "- a matrix $X$ of dimensions `(len(ts)-n-1,3)` gathering all inputs, in the case above with dimensions `(17,3)`\n",
        "- a vector $y$ of dimension `(len(ts)-n-1)` gathering each corresponding expected output, in the case above with dimensions `(17)`.\n",
        "\n",
        "In this task, you will have to:\n",
        "\n",
        "1. Take the time series you created in the previous task, where you fixed the missing values.\n",
        "1. Build $X$, $y$ such as above with $n=3$. If your time series has 24 data points, then X dimensions will be (20,3) and y dimensions will be (20)\n",
        "\n",
        "Again, use any tool of your choice to generate your result."
      ]
    },
    {
      "cell_type": "code",
      "metadata": {
        "colab": {
          "base_uri": "https://localhost:8080/"
        },
        "id": "TuOeb9ZuLFf7",
        "outputId": "afcc1007-2e0a-4333-f3ec-fa5e66e3412b"
      },
      "source": [
        "dz4"
      ],
      "execution_count": null,
      "outputs": [
        {
          "output_type": "execute_result",
          "data": {
            "text/plain": [
              "[0.0,\n",
              " 0.0,\n",
              " 0.0,\n",
              " 4.0,\n",
              " 4.0,\n",
              " 2.0,\n",
              " 2.0,\n",
              " 0.0,\n",
              " 0.0,\n",
              " 0.0,\n",
              " 0.0,\n",
              " 4.0,\n",
              " 6.0,\n",
              " 6.0,\n",
              " 6.0,\n",
              " 6.0,\n",
              " 6.0,\n",
              " 6.0,\n",
              " 6.0,\n",
              " 6.0,\n",
              " 6.0,\n",
              " 6.0,\n",
              " 4.0,\n",
              " 4.0]"
            ]
          },
          "metadata": {},
          "execution_count": 66
        }
      ]
    },
    {
      "cell_type": "code",
      "metadata": {
        "id": "kmLNRlJ4sz_J"
      },
      "source": [
        "n = 3\n",
        "lista=[]\n",
        "for i in range(len(dz4)-n-1):\n",
        "  if i == 0:\n",
        "    lista.append(dz4[:n])\n",
        "  elif i == 1 :\n",
        "    lista.append(dz4[n-2:i+3])\n",
        "  else:\n",
        "    lista.append(dz4[i:i+3])\n",
        "X = lista\n",
        "y = dz4[3:(len(dz4)-1)]\n"
      ],
      "execution_count": null,
      "outputs": []
    },
    {
      "cell_type": "code",
      "metadata": {
        "colab": {
          "base_uri": "https://localhost:8080/"
        },
        "id": "WnZhbUOoK6pK",
        "outputId": "556b7acd-2713-4276-ec63-646c5c969b8e"
      },
      "source": [
        "#X = particionar_lista(dz4, 3)\n",
        "print(X)\n",
        "print (y)"
      ],
      "execution_count": null,
      "outputs": [
        {
          "output_type": "stream",
          "name": "stdout",
          "text": [
            "[[0.0, 0.0, 0.0], [0.0, 0.0, 4.0], [0.0, 4.0, 4.0], [4.0, 4.0, 2.0], [4.0, 2.0, 2.0], [2.0, 2.0, 0.0], [2.0, 0.0, 0.0], [0.0, 0.0, 0.0], [0.0, 0.0, 0.0], [0.0, 0.0, 4.0], [0.0, 4.0, 6.0], [4.0, 6.0, 6.0], [6.0, 6.0, 6.0], [6.0, 6.0, 6.0], [6.0, 6.0, 6.0], [6.0, 6.0, 6.0], [6.0, 6.0, 6.0], [6.0, 6.0, 6.0], [6.0, 6.0, 6.0], [6.0, 6.0, 6.0]]\n",
            "[4.0, 4.0, 2.0, 2.0, 0.0, 0.0, 0.0, 0.0, 4.0, 6.0, 6.0, 6.0, 6.0, 6.0, 6.0, 6.0, 6.0, 6.0, 6.0, 4.0]\n"
          ]
        }
      ]
    },
    {
      "cell_type": "markdown",
      "metadata": {
        "id": "Ukj8vg5Bsz_J"
      },
      "source": [
        "#### fill in your answer\n"
      ]
    },
    {
      "cell_type": "code",
      "metadata": {
        "id": "PbrP5TdXsz_J"
      },
      "source": [
        "X = [[0.0, 0.0, 0.0], [0.0, 0.0, 4.0], [0.0, 4.0, 4.0], [4.0, 4.0, 2.0], [4.0, 2.0, 2.0], [2.0, 2.0, 0.0], [2.0, 0.0, 0.0], [0.0, 0.0, 0.0], [0.0, 0.0, 0.0], [0.0, 0.0, 4.0], [0.0, 4.0, 6.0], [4.0, 6.0, 6.0], [6.0, 6.0, 6.0], [6.0, 6.0, 6.0], [6.0, 6.0, 6.0], [6.0, 6.0, 6.0], [6.0, 6.0, 6.0], [6.0, 6.0, 6.0], [6.0, 6.0, 6.0], [6.0, 6.0, 6.0]]\n",
        "y = [4.0, 4.0, 2.0, 2.0, 0.0, 0.0, 0.0, 0.0, 4.0, 6.0, 6.0, 6.0, 6.0, 6.0, 6.0, 6.0, 6.0, 6.0, 6.0, 4.0]"
      ],
      "execution_count": null,
      "outputs": []
    },
    {
      "cell_type": "code",
      "metadata": {
        "id": "-GaQeesFsz_K"
      },
      "source": [
        "X = lista\n",
        "y = dz4[3:(len(dz4)-1)]"
      ],
      "execution_count": null,
      "outputs": []
    },
    {
      "cell_type": "code",
      "metadata": {
        "id": "LNMkq5zRsz_K"
      },
      "source": [
        ""
      ],
      "execution_count": null,
      "outputs": []
    },
    {
      "cell_type": "markdown",
      "metadata": {
        "id": "HAVi93UZsz_L"
      },
      "source": [
        "**submit your answer**"
      ]
    },
    {
      "cell_type": "code",
      "metadata": {
        "scrolled": false,
        "id": "ePAAzUGvsz_L",
        "colab": {
          "base_uri": "https://localhost:8080/",
          "height": 124
        },
        "outputId": "b972b598-2698-4907-de9c-bbfbf47dfbc1"
      },
      "source": [
        "student.submit_task(globals(), task_id=\"task_03\");"
      ],
      "execution_count": null,
      "outputs": [
        {
          "output_type": "display_data",
          "data": {
            "text/html": [
              "\n",
              "                    <b>task_03 submitted.</b> <b><font color=\"blue\">your grade is 5</font></b> \n",
              "                    <p/><pre>----- grader message -------</pre>checking for date='2016-02-06'<br/><b>correct</b><pre>----------------------------</pre>\n",
              "                    <p/><p/>\n",
              "                    <div style=\"font-size:10px\"><b>SUBMISSION CODE</b> 7xsBY4NnwvhL1GZ89MIO+HpSZ/S51EquwOgbCojZIQl5qRfsChtkz6fXT+OpuQToAJcs/4o+VdiSHIVeYpdzCm/T4kNzc5BV0rRsY1Z5Krr4anNXGCizjKpxrtQyMwgqfSlwM37Lp5eY3fzae8Vx9S0f7rbLLgkl1cuSEzyp5BA=</div>\n",
              "                    "
            ],
            "text/plain": [
              "<IPython.core.display.HTML object>"
            ]
          },
          "metadata": {}
        }
      ]
    },
    {
      "cell_type": "code",
      "metadata": {
        "id": "n_1gIX6osz_L"
      },
      "source": [
        ""
      ],
      "execution_count": null,
      "outputs": []
    }
  ]
}